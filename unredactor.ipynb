{
 "cells": [
  {
   "cell_type": "code",
   "execution_count": 1,
   "id": "3234d70b",
   "metadata": {},
   "outputs": [],
   "source": [
    "import pandas as pd\n",
    "import re\n",
    "import warnings\n",
    "from warnings import filterwarnings\n",
    "filterwarnings(\"ignore\")\n",
    "from sklearn import preprocessing\n",
    "from sklearn.feature_extraction.text import TfidfVectorizer\n",
    "from sklearn import tree\n",
    "import scipy\n",
    "from scipy.sparse import hstack\n",
    "from sklearn.metrics import precision_score, recall_score, f1_score\n",
    "from sklearn.naive_bayes import MultinomialNB\n",
    "from sklearn.tree import DecisionTreeClassifier\n",
    "from sklearn.feature_extraction.text import CountVectorizer\n",
    "from sklearn.neighbors import KNeighborsClassifier\n",
    "from sklearn import svm"
   ]
  },
  {
   "cell_type": "code",
   "execution_count": 2,
   "id": "3df56a47",
   "metadata": {},
   "outputs": [],
   "source": [
    "def get_data(file): \n",
    "        df = pd.read_csv(file,sep='\\t',header=None,error_bad_lines=False,names=['username','file_type','names','redacted_text'])\n",
    "        return df"
   ]
  },
  {
   "cell_type": "code",
   "execution_count": 5,
   "id": "8fe5410f",
   "metadata": {},
   "outputs": [
    {
     "name": "stderr",
     "output_type": "stream",
     "text": [
      "b'Skipping line 4178: expected 4 fields, saw 5\\nSkipping line 4201: expected 4 fields, saw 5\\n'\n"
     ]
    }
   ],
   "source": [
    "df=get_data('unredactor.tsv')"
   ]
  },
  {
   "cell_type": "code",
   "execution_count": 3,
   "id": "2e8fe690",
   "metadata": {},
   "outputs": [],
   "source": [
    "def process(dat1,dat2):\n",
    "    a = []\n",
    "    label = []\n",
    "    \n",
    "    \n",
    "    for i in dat2.values:\n",
    "        i=re.sub(r\"can't\",\" can not\",i)\n",
    "        i=re.sub(r'n\\'t',' not',str(i))\n",
    "        i=re.sub(\"n\\'t\",\"not\",i)\n",
    "#         i=re.sub(r'[$-_@.&+]','',i) \n",
    "        i=re.sub(r'[!\"\\$%&\\'()*+,\\-.\\/:;=#@?\\[\\\\\\]^_`{|}~]*','',i)\n",
    "        i=re.sub(\"\\'m\",\" am\",i)\n",
    "        i = i.replace('<br>','')\n",
    "        i = i.replace('</br>','')\n",
    "        i = i.replace('-',' ')\n",
    "        i = i.replace('?','')\n",
    "        i = i.replace('!','')\n",
    "        i = i.replace('.','')\n",
    "        i = i.replace(',','')\n",
    "        i = i.replace(')|(','')\n",
    "#         i = ' '.join(e for e in i.split())    \n",
    "        a.append(i)\n",
    "    for j in dat1.values: \n",
    "        j=re.sub(\"\\'s\",\" \",str(j))\n",
    "        j=j.replace('.','')\n",
    "        label.append(j)\n",
    "    return a,label"
   ]
  },
  {
   "cell_type": "code",
   "execution_count": 6,
   "id": "60867c13",
   "metadata": {},
   "outputs": [],
   "source": [
    "label,a = process(df['redacted_text'],df['names'])\n",
    "# label = process(df['names'])\n",
    "df['clean_text'] = a\n",
    "df['redacted_names'] = label\n"
   ]
  },
  {
   "cell_type": "code",
   "execution_count": null,
   "id": "e654ba1d",
   "metadata": {},
   "outputs": [],
   "source": [
    "del df['username']\n",
    "del df['names']\n",
    "del df['redacted_text']"
   ]
  },
  {
   "cell_type": "code",
   "execution_count": 7,
   "id": "5f213aa8",
   "metadata": {},
   "outputs": [],
   "source": [
    "def letter_count(data): #counts letters in redacted names\n",
    "    b = data.str.len()\n",
    "    return b"
   ]
  },
  {
   "cell_type": "code",
   "execution_count": 8,
   "id": "82722107",
   "metadata": {},
   "outputs": [],
   "source": [
    "d = letter_count(df['redacted_names'])\n",
    "df['letter_count'] = d"
   ]
  },
  {
   "cell_type": "code",
   "execution_count": 11,
   "id": "d5284196",
   "metadata": {},
   "outputs": [],
   "source": [
    "def space_count(data):#counts number of spaces in redacted names\n",
    "    a=data.str.count('\\s+')\n",
    "#     a = df['letter_count']\n",
    "    return a"
   ]
  },
  {
   "cell_type": "code",
   "execution_count": 22,
   "id": "e4640e48",
   "metadata": {},
   "outputs": [],
   "source": [
    "c = space_count(df['redacted_names'])\n",
    "df['space_count'] = c"
   ]
  },
  {
   "cell_type": "code",
   "execution_count": 23,
   "id": "c88b40da",
   "metadata": {},
   "outputs": [],
   "source": [
    "training_df = df[df['file_type']=='training']"
   ]
  },
  {
   "cell_type": "code",
   "execution_count": 24,
   "id": "6e35ea7d",
   "metadata": {},
   "outputs": [],
   "source": [
    "validation_df = df[df['file_type']=='validation']"
   ]
  },
  {
   "cell_type": "code",
   "execution_count": 25,
   "id": "e9af621e",
   "metadata": {},
   "outputs": [],
   "source": [
    "testing_df = df[df['file_type']=='testing']"
   ]
  },
  {
   "cell_type": "code",
   "execution_count": 26,
   "id": "715918bd",
   "metadata": {},
   "outputs": [],
   "source": [
    "def split(data): # function for separating labels and main data\n",
    "    y=data['redacted_names'].values\n",
    "    y = pd.Series(y)\n",
    "    X=data.drop(['redacted_names'],axis=1)\n",
    "    return X,y"
   ]
  },
  {
   "cell_type": "code",
   "execution_count": 27,
   "id": "d96a1b76",
   "metadata": {},
   "outputs": [],
   "source": [
    "X_train,y_train = split(training_df)\n",
    "X_val,y_val = split(validation_df)\n",
    "X_test,y_test = split(testing_df)"
   ]
  },
  {
   "cell_type": "code",
   "execution_count": 28,
   "id": "2420e217",
   "metadata": {},
   "outputs": [
    {
     "data": {
      "text/plain": [
       "0          ashton kutcher\n",
       "1          Ashton Kutcher\n",
       "2                  Noonan\n",
       "3                 Picasso\n",
       "4              Tom Noonan\n",
       "              ...        \n",
       "2357         Andy Stitzer\n",
       "2358        Steve Carrell\n",
       "2359    Denzel Washington\n",
       "2360          John Ritter\n",
       "2361          John Ritter\n",
       "Length: 2362, dtype: object"
      ]
     },
     "execution_count": 28,
     "metadata": {},
     "output_type": "execute_result"
    }
   ],
   "source": [
    "y_train"
   ]
  },
  {
   "cell_type": "code",
   "execution_count": 29,
   "id": "573c397a",
   "metadata": {},
   "outputs": [],
   "source": [
    "def vect(data): \n",
    "    vectorizer=CountVectorizer(max_features=3000)\n",
    "    data=vectorizer.fit_transform(data.values)\n",
    "    return data"
   ]
  },
  {
   "cell_type": "code",
   "execution_count": 30,
   "id": "f0dc3ebe",
   "metadata": {},
   "outputs": [],
   "source": [
    "X_tr_text = vect(X_train['clean_text'])\n",
    "X_val_text = vect(X_val['clean_text'])\n",
    "X_test_text = vect(X_test['clean_text'])"
   ]
  },
  {
   "cell_type": "code",
   "execution_count": 31,
   "id": "0c57e3d6",
   "metadata": {},
   "outputs": [],
   "source": [
    "def letter_features(d1):\n",
    "#     v = CountVectorizer(ngram_range=(2,2),max_features=2000)\n",
    "    X_let = d1.values\n",
    "    X_let_train=X_let.reshape(-1,1)\n",
    "    return X_let_train"
   ]
  },
  {
   "cell_type": "code",
   "execution_count": 32,
   "id": "e4a75479",
   "metadata": {},
   "outputs": [],
   "source": [
    "X_let_train= letter_features(X_train['letter_count'])\n",
    "X_let_validate = letter_features(X_val['letter_count'])\n",
    "X_let_test = letter_features(X_test['letter_count'])"
   ]
  },
  {
   "cell_type": "code",
   "execution_count": 33,
   "id": "e4f0e5b2",
   "metadata": {},
   "outputs": [],
   "source": [
    "def space_features(d1):\n",
    "#     vect = TfidfVectorizer()\n",
    "    X_spc = d1.values\n",
    "    X_spc_train=X_spc.reshape(-1,1)\n",
    "\n",
    "    return X_spc_train"
   ]
  },
  {
   "cell_type": "code",
   "execution_count": 34,
   "id": "d3c579b9",
   "metadata": {},
   "outputs": [],
   "source": [
    "X_spc_train= space_features(X_train['space_count'])"
   ]
  },
  {
   "cell_type": "code",
   "execution_count": 35,
   "id": "8c73b992",
   "metadata": {},
   "outputs": [],
   "source": [
    "X_spc_validate= space_features(X_val['space_count'])"
   ]
  },
  {
   "cell_type": "code",
   "execution_count": 36,
   "id": "8fc6493f",
   "metadata": {},
   "outputs": [],
   "source": [
    "X_spc_test= space_features(X_test['space_count'])"
   ]
  },
  {
   "cell_type": "code",
   "execution_count": 37,
   "id": "40c72e69",
   "metadata": {},
   "outputs": [],
   "source": [
    "def merge(d1,d2,d3):\n",
    "    data_stack= hstack((d1,d2,d3))\n",
    "    data= data_stack.tocsr()\n",
    "    return data"
   ]
  },
  {
   "cell_type": "code",
   "execution_count": 38,
   "id": "d1f68363",
   "metadata": {},
   "outputs": [],
   "source": [
    "merge_train = merge(X_tr_text,X_let_train,X_spc_train)\n",
    "merge_validate = merge(X_val_text,X_let_validate,X_spc_validate)\n",
    "merge_test = merge(X_test_text, X_spc_test, X_spc_test)"
   ]
  },
  {
   "cell_type": "code",
   "execution_count": null,
   "id": "f394910d",
   "metadata": {},
   "outputs": [],
   "source": [
    "df"
   ]
  },
  {
   "cell_type": "code",
   "execution_count": 48,
   "id": "8d47dacd",
   "metadata": {},
   "outputs": [],
   "source": [
    "def create_model(train_X,train_y):\n",
    "    clf = KNeighborsClassifier()\n",
    "    model = clf.fit(train_X,train_y)\n",
    "    return model "
   ]
  },
  {
   "cell_type": "code",
   "execution_count": 49,
   "id": "5dca4c2f",
   "metadata": {},
   "outputs": [],
   "source": [
    "model = create_model(merge_train,y_train)"
   ]
  },
  {
   "cell_type": "code",
   "execution_count": 50,
   "id": "566c7d02",
   "metadata": {},
   "outputs": [],
   "source": [
    "def prediction(model,train_X, validation_X, test_X):\n",
    "    predict_y_train = model.predict(train_X)\n",
    "    predict_y_val = model.predict(validation_X)\n",
    "    predict_y_test = model.predict(test_X)\n",
    "    return predict_y_train,predict_y_val,predict_y_test"
   ]
  },
  {
   "cell_type": "code",
   "execution_count": 53,
   "id": "de8252c3",
   "metadata": {},
   "outputs": [],
   "source": [
    "predict_y_train,predict_y_val,predict_y_test = prediction(model,merge_train, merge_validate, merge_test)"
   ]
  },
  {
   "cell_type": "code",
   "execution_count": 57,
   "id": "7dcb9ce0",
   "metadata": {},
   "outputs": [],
   "source": [
    "def evaluate(model,predict_y_train,predict_y_val,y_train,y_val):\n",
    "    train_precision_score = precision_score(y_train,predict_y_train,average='weighted')\n",
    "    val_precision_score = precision_score(y_val,predict_y_val,average='weighted')\n",
    "    train_recall_score = recall_score(y_train,predict_y_train,average='weighted')\n",
    "    val_recall_score = recall_score(y_val,predict_y_val,average='weighted')\n",
    "    train_f1_score = f1_score(y_train,predict_y_train,average='weighted')\n",
    "    val_f1_score = f1_score(y_val,predict_y_val,average='weighted')\n",
    "    return train_precision_score, val_precision_score, train_recall_score, val_recall_score, train_f1_score, val_f1_score"
   ]
  },
  {
   "cell_type": "code",
   "execution_count": 59,
   "id": "4fdb8717",
   "metadata": {},
   "outputs": [],
   "source": [
    "train_precision_score, val_precision_score, train_recall_score, val_recall_score, train_f1_score, val_f1_score = evaluate(model,predict_y_train,predict_y_val,y_train,y_val)"
   ]
  },
  {
   "cell_type": "code",
   "execution_count": 60,
   "id": "fa23825e",
   "metadata": {},
   "outputs": [
    {
     "data": {
      "text/plain": [
       "6.047771589697887e-05"
      ]
     },
     "execution_count": 60,
     "metadata": {},
     "output_type": "execute_result"
    }
   ],
   "source": [
    "val_precision_score"
   ]
  },
  {
   "cell_type": "code",
   "execution_count": 61,
   "id": "7f533d99",
   "metadata": {},
   "outputs": [
    {
     "data": {
      "text/plain": [
       "0.21532105290075737"
      ]
     },
     "execution_count": 61,
     "metadata": {},
     "output_type": "execute_result"
    }
   ],
   "source": [
    "train_precision_score"
   ]
  },
  {
   "cell_type": "code",
   "execution_count": 62,
   "id": "b3945b33",
   "metadata": {},
   "outputs": [
    {
     "data": {
      "text/plain": [
       "0.2506350550381033"
      ]
     },
     "execution_count": 62,
     "metadata": {},
     "output_type": "execute_result"
    }
   ],
   "source": [
    "train_recall_score"
   ]
  },
  {
   "cell_type": "code",
   "execution_count": 63,
   "id": "070472bf",
   "metadata": {},
   "outputs": [
    {
     "data": {
      "text/plain": [
       "0.002904865649963689"
      ]
     },
     "execution_count": 63,
     "metadata": {},
     "output_type": "execute_result"
    }
   ],
   "source": [
    "val_recall_score"
   ]
  },
  {
   "cell_type": "code",
   "execution_count": 64,
   "id": "67808214",
   "metadata": {},
   "outputs": [
    {
     "data": {
      "text/plain": [
       "0.20331240860083255"
      ]
     },
     "execution_count": 64,
     "metadata": {},
     "output_type": "execute_result"
    }
   ],
   "source": [
    "train_f1_score"
   ]
  },
  {
   "cell_type": "code",
   "execution_count": 65,
   "id": "e39473e3",
   "metadata": {},
   "outputs": [
    {
     "data": {
      "text/plain": [
       "0.00011843376435590131"
      ]
     },
     "execution_count": 65,
     "metadata": {},
     "output_type": "execute_result"
    }
   ],
   "source": [
    "val_f1_score"
   ]
  },
  {
   "cell_type": "code",
   "execution_count": 66,
   "id": "5af7e8fd",
   "metadata": {},
   "outputs": [],
   "source": [
    "output = predict_y_test"
   ]
  },
  {
   "cell_type": "code",
   "execution_count": null,
   "id": "4fe5b041",
   "metadata": {},
   "outputs": [],
   "source": [
    "output"
   ]
  }
 ],
 "metadata": {
  "kernelspec": {
   "display_name": "Python 3 (ipykernel)",
   "language": "python",
   "name": "python3"
  },
  "language_info": {
   "codemirror_mode": {
    "name": "ipython",
    "version": 3
   },
   "file_extension": ".py",
   "mimetype": "text/x-python",
   "name": "python",
   "nbconvert_exporter": "python",
   "pygments_lexer": "ipython3",
   "version": "3.9.7"
  }
 },
 "nbformat": 4,
 "nbformat_minor": 5
}
